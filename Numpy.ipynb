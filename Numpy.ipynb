{
 "cells": [
  {
   "cell_type": "code",
   "execution_count": 2,
   "id": "085bcc7b",
   "metadata": {},
   "outputs": [],
   "source": [
    "import numpy as np"
   ]
  },
  {
   "cell_type": "code",
   "execution_count": 61,
   "id": "c623c9c3",
   "metadata": {},
   "outputs": [
    {
     "name": "stdout",
     "output_type": "stream",
     "text": [
      "[[95 67 91 54]\n",
      " [64 56 65 95]\n",
      " [79 90 66 89]]\n",
      "[[76.75]\n",
      " [70.  ]\n",
      " [81.  ]]\n",
      "['B+' 'B' 'A']\n"
     ]
    }
   ],
   "source": [
    "n_e=3\n",
    "n_m=4\n",
    "matrice=np.random.randint(50,100,size=(n_e,n_m))\n",
    "#matrice=np.random.random(size=(n_e,n_m))*20\n",
    "print(matrice)\n",
    "notetotale=matrice.sum(axis=1)#1 pour la ligne\n",
    "notemoyenne=matrice.mean(axis=1)\n",
    "#print(np.expand_dims(notetotale, 0).T)#pour transposer la matrice\n",
    "pourcentage=(notetotale/n_matiere)\n",
    "print(np.expand_dims(pourcentage, -1))\n",
    "grades=np.zeros_like(pourcentage,dtype=object)\n",
    "grades[pourcentage>90]=\"A+\"\n",
    "grades[(pourcentage>80) & (grades == 0)]=\"A\"\n",
    "grades[(pourcentage>70) & (grades == 0)]=\"B+\"\n",
    "grades[(pourcentage>60) & (grades == 0)]=\"B\"\n",
    "grades[(pourcentage>50) & (grades == 0)]=\"C\"\n",
    "grades[(pourcentage<50) & (grades == 0)]=\"F\"\n",
    "print(grades)\n",
    "\n"
   ]
  },
  {
   "cell_type": "code",
   "execution_count": null,
   "id": "b3d313fe",
   "metadata": {},
   "outputs": [],
   "source": []
  },
  {
   "cell_type": "code",
   "execution_count": null,
   "id": "72a87b22",
   "metadata": {},
   "outputs": [],
   "source": []
  },
  {
   "cell_type": "code",
   "execution_count": null,
   "id": "3633ef6b",
   "metadata": {},
   "outputs": [],
   "source": []
  },
  {
   "cell_type": "code",
   "execution_count": null,
   "id": "8e6fd08b",
   "metadata": {},
   "outputs": [],
   "source": []
  }
 ],
 "metadata": {
  "kernelspec": {
   "display_name": "Python 3 (ipykernel)",
   "language": "python",
   "name": "python3"
  },
  "language_info": {
   "codemirror_mode": {
    "name": "ipython",
    "version": 3
   },
   "file_extension": ".py",
   "mimetype": "text/x-python",
   "name": "python",
   "nbconvert_exporter": "python",
   "pygments_lexer": "ipython3",
   "version": "3.11.5"
  }
 },
 "nbformat": 4,
 "nbformat_minor": 5
}
